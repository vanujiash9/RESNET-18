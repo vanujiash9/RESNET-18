{
  "nbformat": 4,
  "nbformat_minor": 0,
  "metadata": {
    "colab": {
      "provenance": []
    },
    "kernelspec": {
      "name": "python3",
      "display_name": "Python 3"
    },
    "language_info": {
      "name": "python"
    }
  },
  "cells": [
    {
      "cell_type": "code",
      "execution_count": null,
      "metadata": {
        "id": "d6ELyEB4XRrc"
      },
      "outputs": [],
      "source": [
        "import torch\n",
        "import torchvision\n",
        "import torchvision.transforms as transforms\n",
        "import torch.nn as nn\n",
        "import torch.optim as optim"
      ]
    },
    {
      "cell_type": "code",
      "source": [
        "#1. Load Resnet-18\n",
        "resnet18 = torchvision.models.resnet18(pretrained=True)"
      ],
      "metadata": {
        "id": "FfOsV71EaeCr",
        "collapsed": true
      },
      "execution_count": null,
      "outputs": []
    },
    {
      "cell_type": "code",
      "source": [
        "#2 Change the final layer\n",
        "num_ftrs = resnet18.fc.in_features\n",
        "resnet18.fc = nn.Linear(num_ftrs, 10)"
      ],
      "metadata": {
        "id": "24oEh34SbSMp"
      },
      "execution_count": null,
      "outputs": []
    },
    {
      "cell_type": "code",
      "source": [
        "device = torch.device(\"cuda:0\" if torch.cuda.is_available() else \"cpu\")\n",
        "print(f\"Sử dụng thiết bị: {device}\")\n",
        "resnet18 = resnet18.to(device)\n",
        "\n",
        "# Thêm vào vòng lặp huấn luyện:\n",
        "inputs, labels = inputs.to(device), labels.to(device)"
      ],
      "metadata": {
        "colab": {
          "base_uri": "https://localhost:8080/"
        },
        "id": "cFt9KdsZbY8Z",
        "outputId": "829a066e-6d69-4dce-fc84-2dee7d8eeedb"
      },
      "execution_count": null,
      "outputs": [
        {
          "output_type": "stream",
          "name": "stdout",
          "text": [
            "Sử dụng thiết bị: cpu\n"
          ]
        }
      ]
    },
    {
      "cell_type": "code",
      "source": [
        "#3. Prepare the CIFAR-10 data\n",
        "transform = transforms.Compose([\n",
        "    transforms.ToTensor(),\n",
        "    transforms.Normalize((0.5, 0.5, 0.5), (0.5, 0.5, 0.5))\n",
        "\n",
        "])\n",
        "trainset = torchvision.datasets.CIFAR10(root='./data', train=True, download=True, transform=transform)\n",
        "trainloader = torch.utils.data.DataLoader(trainset, batch_size=4, shuffle=True, num_workers=2)"
      ],
      "metadata": {
        "id": "SSH7j2BBbex5"
      },
      "execution_count": null,
      "outputs": []
    },
    {
      "cell_type": "code",
      "source": [
        "# 4. Loss function and optimizer\n",
        "criterion = nn.CrossEntropyLoss()\n",
        "optimizer = optim.SGD(resnet18.parameters(), lr=0.001, momentum=0.9)"
      ],
      "metadata": {
        "id": "52EjBy4OcBD8"
      },
      "execution_count": null,
      "outputs": []
    },
    {
      "cell_type": "code",
      "source": [
        "#5. Train the model\n",
        "for epoch in range(2):\n",
        "  running_loss= 0.0\n",
        "  for i, data in enumerate(trainloader, 0):\n",
        "    inputs, labels = data\n",
        "    optimizer.zero_grad()\n",
        "    outputs = resnet18(inputs)\n",
        "    loss = criterion(outputs, labels)\n",
        "    loss.backward()\n",
        "    optimizer.step()\n",
        "    running_loss += loss.item()\n",
        "    if i %2000 == 1999:\n",
        "      print('[%d, %5d] loss: %.3f' % (epoch + 1, i + 1, running_loss / 2000)) # Corrected line: Added parentheses to enclose all arguments\n",
        "      running_loss = 0.0\n",
        "print('Finished Training')"
      ],
      "metadata": {
        "colab": {
          "base_uri": "https://localhost:8080/"
        },
        "id": "Rh-CfVZccd-2",
        "outputId": "fdc7d898-0daa-472f-a7e3-637faa594c6b"
      },
      "execution_count": null,
      "outputs": [
        {
          "output_type": "stream",
          "name": "stdout",
          "text": [
            "[1,  2000] loss: 2.645\n",
            "[1,  4000] loss: 2.460\n",
            "[1,  6000] loss: 2.368\n",
            "[1,  8000] loss: 2.224\n",
            "[1, 10000] loss: 2.157\n",
            "[1, 12000] loss: 2.171\n",
            "[2,  2000] loss: 2.033\n",
            "[2,  4000] loss: 1.979\n",
            "[2,  6000] loss: 2.094\n",
            "[2,  8000] loss: 2.072\n",
            "[2, 10000] loss: 1.984\n",
            "[2, 12000] loss: 1.861\n",
            "Finished Training\n"
          ]
        }
      ]
    },
    {
      "cell_type": "code",
      "source": [
        "#5. Train the model\n",
        "for epoch in range(5):\n",
        "  running_loss= 0.0\n",
        "  for i, data in enumerate(trainloader, 0):\n",
        "    inputs, labels = data\n",
        "    optimizer.zero_grad()\n",
        "    outputs = resnet18(inputs)\n",
        "    loss = criterion(outputs, labels)\n",
        "    loss.backward()\n",
        "    optimizer.step()\n",
        "    running_loss += loss.item()\n",
        "    if i %2000 == 1999:\n",
        "      print('[%d, %5d] loss: %.3f' % (epoch + 1, i + 1, running_loss / 2000)) # Corrected line: Added parentheses to enclose all arguments\n",
        "      running_loss = 0.0\n",
        "print('Finished Training')"
      ],
      "metadata": {
        "colab": {
          "base_uri": "https://localhost:8080/"
        },
        "id": "O38mZOVxovAw",
        "outputId": "abb2b73c-dfe8-49bc-84d9-090fdf6e58ec"
      },
      "execution_count": null,
      "outputs": [
        {
          "output_type": "stream",
          "name": "stdout",
          "text": [
            "[1,  2000] loss: 0.919\n",
            "[1,  4000] loss: 0.888\n",
            "[1,  6000] loss: 0.900\n",
            "[1,  8000] loss: 0.904\n",
            "[1, 10000] loss: 0.895\n",
            "[1, 12000] loss: 0.931\n",
            "[2,  2000] loss: 0.885\n",
            "[2,  4000] loss: 0.886\n",
            "[2,  6000] loss: 0.843\n",
            "[2,  8000] loss: 0.797\n",
            "[2, 10000] loss: 0.847\n",
            "[2, 12000] loss: 0.823\n",
            "[3,  2000] loss: 0.795\n",
            "[3,  4000] loss: 0.759\n",
            "[3,  6000] loss: 0.769\n",
            "[3,  8000] loss: 0.718\n",
            "[3, 10000] loss: 0.740\n",
            "[3, 12000] loss: 0.730\n",
            "[4,  2000] loss: 0.725\n",
            "[4,  4000] loss: 0.691\n",
            "[4,  6000] loss: 0.706\n",
            "[4,  8000] loss: 0.704\n",
            "[4, 10000] loss: 0.692\n",
            "[4, 12000] loss: 0.700\n",
            "[5,  2000] loss: 0.701\n",
            "[5,  4000] loss: 0.739\n",
            "[5,  6000] loss: 0.726\n",
            "[5,  8000] loss: 0.683\n",
            "[5, 10000] loss: 0.685\n",
            "[5, 12000] loss: 0.815\n",
            "Finished Training\n"
          ]
        }
      ]
    },
    {
      "cell_type": "code",
      "source": [
        "# Đánh giá mô hình trên tập test\n",
        "testset = torchvision.datasets.CIFAR10(root='./data', train=False, download=True, transform=transform)\n",
        "testloader = torch.utils.data.DataLoader(testset, batch_size=4, shuffle=False, num_workers=2)\n",
        "\n",
        "correct = 0\n",
        "total = 0\n",
        "with torch.no_grad():\n",
        "    for data in testloader:\n",
        "        images, labels = data\n",
        "        outputs = resnet18(images)\n",
        "        _, predicted = torch.max(outputs.data, 1)\n",
        "        total += labels.size(0)\n",
        "        correct += (predicted == labels).sum().item()\n",
        "\n",
        "print(f'Độ chính xác trên tập test: {100 * correct / total}%')"
      ],
      "metadata": {
        "colab": {
          "base_uri": "https://localhost:8080/"
        },
        "id": "XGwq7O0ZbV1R",
        "outputId": "653016af-1739-4960-cf10-e9859caff9b4"
      },
      "execution_count": null,
      "outputs": [
        {
          "output_type": "stream",
          "name": "stdout",
          "text": [
            "Độ chính xác trên tập test: 46.3%\n"
          ]
        }
      ]
    },
    {
      "cell_type": "code",
      "source": [
        "# 5. Huấn luyện mô hình\n",
        "for epoch in range(2):\n",
        "    running_loss = 0.0  # Khởi tạo biến lưu tổng loss cho từng epoch\n",
        "    # Lặp qua từng batch của dữ liệu huấn luyện\n",
        "    for i, data in enumerate(trainloader, 0):\n",
        "        # Lấy dữ liệu đầu vào (inputs) và nhãn (labels) từ batch hiện tại\n",
        "        inputs, labels = data\n",
        "\n",
        "        # Đặt gradient về 0 để không cộng dồn qua các batch\n",
        "        optimizer.zero_grad()\n",
        "\n",
        "        # Dự đoán đầu ra bằng mô hình ResNet-18\n",
        "        outputs = resnet18(inputs)\n",
        "\n",
        "        # Tính toán hàm mất mát giữa đầu ra dự đoán và nhãn thật\n",
        "        loss = criterion(outputs, labels)\n",
        "\n",
        "        # Lan truyền ngược để tính gradient\n",
        "        loss.backward()\n",
        "\n",
        "        # Cập nhật các tham số của mô hình dựa trên gradient vừa tính\n",
        "        optimizer.step()\n",
        "\n",
        "        # Cộng dồn loss của batch hiện tại vào biến running_loss\n",
        "        running_loss += loss.item()\n",
        "\n",
        "        # Mỗi 2000 batch, in ra trung bình loss của 2000 batch vừa qua\n",
        "        if i % 2000 == 1999:\n",
        "            print('[%d, %5d] loss: %.3f' % (epoch + 1, i + 1, running_loss / 2000))\n",
        "            running_loss = 0.0\n",
        "\n",
        "print('Finished Training')\n"
      ],
      "metadata": {
        "id": "VCCq1Ynz0wvy"
      },
      "execution_count": null,
      "outputs": []
    }
  ]
}